{
 "cells": [
  {
   "cell_type": "markdown",
   "metadata": {},
   "source": [
    "# Formalia:\n",
    "\n",
    "Please read the [assignment overview page](https://github.com/suneman/socialgraphs2025/wiki/Assignments) carefully before proceeding. This page contains information about formatting (including formats etc), group sizes, and many other aspects of handing in the assignment. \n",
    "\n",
    "_If you fail to follow those simple instructions, it will negatively impact your grade!_\n",
    "\n",
    "**Due date and time**: The assignment is due on Tuesday November 4th, 2025 at 23:55. Hand in your IPython notebook file (with extension `.ipynb`) via DTU Learn"
   ]
  },
  {
   "cell_type": "markdown",
   "metadata": {},
   "source": [
    "In the exercises below, I describe the exercises in a general way. Drawing in the right parts of the exercises is part of the assignment. (That way we're helping you get a little bit more ready for the Final Project, where you have to decide what information to include in your report and analysis). \n",
    "\n",
    "# Part 1: Analyze the network\n",
    "\n",
    "The questions in this part are based on Lecture 5.\n",
    "\n",
    "* Present an analysis/description of the network of bands/artists using tools from Lecture 5. Imagine that you have been tasked with presenting the important facts about the network to an audience who knows about network science, but doesn't know about this particular network.\n",
    "   - It's OK to also use basic concepts like degree distributions (even though they're from week 4) in your analysis. That way you can make the analysis a standalone, coherent thing.\n",
    "   - I would like you to include concepts like centrality and assortativity in your analysis.\n",
    "   - Use a network backbone in your analysis.\n",
    "   - In addition to standard distribution plots (e.g. degree distributions, etc), your analysis should also include at least one network visualization (but it doesn't have to display the entire network, you can also visualize a network backbone).\n",
    "   - **Note**: As I write above, an important part of the exercise consists is *selecting the right elements of the lecture* to create a meaningful analysis. So don't solve this part by going exhaustive and just calculating everything you can think of in one massive analysis. Try to focus on using what you've learned to characterize the network. \n",
    "\n",
    "# Part 2: Genres and communities and plotting \n",
    "\n",
    "The questions below are based on Lecture 7, part 2.\n",
    "\n",
    "* Write about genres and modularity.\n",
    "* Detect the communities, discuss the value of modularity in comparison to the genres.\n",
    "* Calculate the matrix $D$ and discuss your findings.\n",
    "* Plot the communities and comment on your results.\n",
    "\n",
    "# Part 3: TF-IDF to understand genres and communities \n",
    "\n",
    "The questions below  are based on Lecture 7, part 2, 4, 5, 6 (and a little bit on part 3).\n",
    "\n",
    "* Explain the concept of TF-IDF in your own words and how it can help you understand the genres and communities.\n",
    "* Calculate and visualize TF-IDF for the genres and communities.\n",
    "* Use the matrix $D$ (Lecture 7, part 2) to dicusss the difference between the word-clouds between genres and communities.\n",
    "\n",
    "# Part 4: Sentiment of the artists and communities\n",
    "\n",
    "The questions below are based on Lecture 8\n",
    "\n",
    "* Calculate the sentiment of the band/artist pages (it is OK to work with the sub-network of artists-with-genre) and describe your findings using stats and visualization, inspired by the first exercise of week 8.\n",
    "* Discuss the sentiment of the communities. Do the findings using TF-IDF during Lecture 7 help you understand your results?"
   ]
  },
  {
   "cell_type": "code",
   "execution_count": null,
   "metadata": {},
   "outputs": [],
   "source": []
  }
 ],
 "metadata": {
  "anaconda-cloud": {},
  "kernelspec": {
   "display_name": "Python 3 (ipykernel)",
   "language": "python",
   "name": "python3"
  },
  "language_info": {
   "codemirror_mode": {
    "name": "ipython",
    "version": 3
   },
   "file_extension": ".py",
   "mimetype": "text/x-python",
   "name": "python",
   "nbconvert_exporter": "python",
   "pygments_lexer": "ipython3",
   "version": "3.9.23"
  }
 },
 "nbformat": 4,
 "nbformat_minor": 4
}
